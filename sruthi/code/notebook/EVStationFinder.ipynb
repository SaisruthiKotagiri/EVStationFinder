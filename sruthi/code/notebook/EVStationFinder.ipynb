{
 "cells": [
  {
   "cell_type": "markdown",
   "metadata": {
    "id": "7K84b_WrR7X1"
   },
   "source": [
    "# EV Charger Finder\n"
   ]
  },
  {
   "cell_type": "markdown",
   "metadata": {
    "id": "X3tCGO08R2W2"
   },
   "source": [
    "## Installs"
   ]
  },
  {
   "cell_type": "code",
   "execution_count": null,
   "metadata": {
    "id": "49Igz7j1tNa3"
   },
   "outputs": [],
   "source": [
    "!pip install haversine\n",
    "!pip install pandas"
   ]
  },
  {
   "cell_type": "markdown",
   "metadata": {
    "id": "6d8pbE12RurY"
   },
   "source": [
    "## Imports"
   ]
  },
  {
   "cell_type": "code",
   "execution_count": 2,
   "metadata": {
    "id": "_t-DdKCURiCM"
   },
   "outputs": [],
   "source": [
    "import pandas as pd\n",
    "from haversine import haversine, Unit\n",
    "import requests"
   ]
  },
  {
   "cell_type": "markdown",
   "metadata": {
    "id": "dQLSsLewSHkl"
   },
   "source": [
    "## Data Set"
   ]
  },
  {
   "cell_type": "code",
   "execution_count": 3,
   "metadata": {
    "id": "L2q3gD34mxWd"
   },
   "outputs": [
    {
     "name": "stderr",
     "output_type": "stream",
     "text": [
      "/var/folders/q5/j1mcbs8s51j8z_dcdz61y__40000gn/T/ipykernel_60369/562376349.py:2: DtypeWarning: Columns (6,16,20,31,33,43,46,52,57,58,60,62,65,67,69,71) have mixed types. Specify dtype option on import or set low_memory=False.\n",
      "  df = pd.read_csv(file_path)\n"
     ]
    }
   ],
   "source": [
    "file_path = '/Users/Saisruthikotagiri/EVStationFinder/sruthi/data/alt_fuel_stations (Nov 30 2023).csv'\n",
    "df = pd.read_csv(file_path)"
   ]
  },
  {
   "cell_type": "code",
   "execution_count": 4,
   "metadata": {
    "id": "rpoNAdwosHH6"
   },
   "outputs": [
    {
     "data": {
      "text/plain": [
       "['Fuel Type Code',\n",
       " 'Station Name',\n",
       " 'Street Address',\n",
       " 'Intersection Directions',\n",
       " 'City',\n",
       " 'State',\n",
       " 'ZIP',\n",
       " 'Plus4',\n",
       " 'Station Phone',\n",
       " 'Status Code',\n",
       " 'Expected Date',\n",
       " 'Groups With Access Code',\n",
       " 'Access Days Time',\n",
       " 'Cards Accepted',\n",
       " 'BD Blends',\n",
       " 'NG Fill Type Code',\n",
       " 'NG PSI',\n",
       " 'EV Level1 EVSE Num',\n",
       " 'EV Level2 EVSE Num',\n",
       " 'EV DC Fast Count',\n",
       " 'EV Other Info',\n",
       " 'EV Network',\n",
       " 'EV Network Web',\n",
       " 'Geocode Status',\n",
       " 'Latitude',\n",
       " 'Longitude',\n",
       " 'Date Last Confirmed',\n",
       " 'ID',\n",
       " 'Updated At',\n",
       " 'Owner Type Code',\n",
       " 'Federal Agency ID',\n",
       " 'Federal Agency Name',\n",
       " 'Open Date',\n",
       " 'Hydrogen Status Link',\n",
       " 'NG Vehicle Class',\n",
       " 'LPG Primary',\n",
       " 'E85 Blender Pump',\n",
       " 'EV Connector Types',\n",
       " 'Country',\n",
       " 'Intersection Directions (French)',\n",
       " 'Access Days Time (French)',\n",
       " 'BD Blends (French)',\n",
       " 'Groups With Access Code (French)',\n",
       " 'Hydrogen Is Retail',\n",
       " 'Access Code',\n",
       " 'Access Detail Code',\n",
       " 'Federal Agency Code',\n",
       " 'Facility Type',\n",
       " 'CNG Dispenser Num',\n",
       " 'CNG On-Site Renewable Source',\n",
       " 'CNG Total Compression Capacity',\n",
       " 'CNG Storage Capacity',\n",
       " 'LNG On-Site Renewable Source',\n",
       " 'E85 Other Ethanol Blends',\n",
       " 'EV Pricing',\n",
       " 'EV Pricing (French)',\n",
       " 'LPG Nozzle Types',\n",
       " 'Hydrogen Pressures',\n",
       " 'Hydrogen Standards',\n",
       " 'CNG Fill Type Code',\n",
       " 'CNG PSI',\n",
       " 'CNG Vehicle Class',\n",
       " 'LNG Vehicle Class',\n",
       " 'EV On-Site Renewable Source',\n",
       " 'Restricted Access',\n",
       " 'RD Blends',\n",
       " 'RD Blends (French)',\n",
       " 'RD Blended with Biodiesel',\n",
       " 'RD Maximum Biodiesel Level',\n",
       " 'NPS Unit Name',\n",
       " 'CNG Station Sells Renewable Natural Gas',\n",
       " 'LNG Station Sells Renewable Natural Gas',\n",
       " 'Maximum Vehicle Class',\n",
       " 'EV Workplace Charging']"
      ]
     },
     "execution_count": 4,
     "metadata": {},
     "output_type": "execute_result"
    }
   ],
   "source": [
    "# Let's get all the column names to identify the ones for latitude, longitude, and EV connector types\n",
    "column_names = df.columns.tolist()\n",
    "column_names"
   ]
  },
  {
   "cell_type": "markdown",
   "metadata": {
    "id": "YiaO-fhJSR2b"
   },
   "source": [
    "## Haversine Distance Calculation"
   ]
  },
  {
   "cell_type": "code",
   "execution_count": 186,
   "metadata": {
    "id": "UsSiH7fgs2xG"
   },
   "outputs": [
    {
     "name": "stderr",
     "output_type": "stream",
     "text": [
      "/var/folders/q5/j1mcbs8s51j8z_dcdz61y__40000gn/T/ipykernel_60369/4139055970.py:20: SettingWithCopyWarning: \n",
      "A value is trying to be set on a copy of a slice from a DataFrame.\n",
      "Try using .loc[row_indexer,col_indexer] = value instead\n",
      "\n",
      "See the caveats in the documentation: https://pandas.pydata.org/pandas-docs/stable/user_guide/indexing.html#returning-a-view-versus-a-copy\n",
      "  public_stations['Distance'] = public_stations.apply(\n"
     ]
    },
    {
     "data": {
      "text/html": [
       "<div>\n",
       "<style scoped>\n",
       "    .dataframe tbody tr th:only-of-type {\n",
       "        vertical-align: middle;\n",
       "    }\n",
       "\n",
       "    .dataframe tbody tr th {\n",
       "        vertical-align: top;\n",
       "    }\n",
       "\n",
       "    .dataframe thead th {\n",
       "        text-align: right;\n",
       "    }\n",
       "</style>\n",
       "<table border=\"1\" class=\"dataframe\">\n",
       "  <thead>\n",
       "    <tr style=\"text-align: right;\">\n",
       "      <th></th>\n",
       "      <th>Station Name</th>\n",
       "      <th>Street Address</th>\n",
       "      <th>City</th>\n",
       "      <th>State</th>\n",
       "      <th>ZIP</th>\n",
       "      <th>Latitude</th>\n",
       "      <th>Longitude</th>\n",
       "      <th>Distance</th>\n",
       "    </tr>\n",
       "  </thead>\n",
       "  <tbody>\n",
       "    <tr>\n",
       "      <th>8041</th>\n",
       "      <td>Wayne State University - Parking Structure #8</td>\n",
       "      <td>91 W Forest</td>\n",
       "      <td>Detroit</td>\n",
       "      <td>MI</td>\n",
       "      <td>48202</td>\n",
       "      <td>42.354263</td>\n",
       "      <td>-83.064166</td>\n",
       "      <td>0.100873</td>\n",
       "    </tr>\n",
       "    <tr>\n",
       "      <th>8036</th>\n",
       "      <td>Wayne State University - Parking Structure #3</td>\n",
       "      <td>45 E Warren</td>\n",
       "      <td>Detroit</td>\n",
       "      <td>MI</td>\n",
       "      <td>48202</td>\n",
       "      <td>42.357355</td>\n",
       "      <td>-83.063344</td>\n",
       "      <td>0.317758</td>\n",
       "    </tr>\n",
       "    <tr>\n",
       "      <th>8039</th>\n",
       "      <td>Wayne State University - Parking Structure #6</td>\n",
       "      <td>61 Putnam</td>\n",
       "      <td>Detroit</td>\n",
       "      <td>MI</td>\n",
       "      <td>48202</td>\n",
       "      <td>42.357432</td>\n",
       "      <td>-83.066046</td>\n",
       "      <td>0.332549</td>\n",
       "    </tr>\n",
       "    <tr>\n",
       "      <th>8040</th>\n",
       "      <td>Wayne State University - Parking Structure #7</td>\n",
       "      <td>3717 John R</td>\n",
       "      <td>Detroit</td>\n",
       "      <td>MI</td>\n",
       "      <td>48202</td>\n",
       "      <td>42.349218</td>\n",
       "      <td>-83.056574</td>\n",
       "      <td>0.463792</td>\n",
       "    </tr>\n",
       "    <tr>\n",
       "      <th>8043</th>\n",
       "      <td>Wayne State University - Lot #75</td>\n",
       "      <td>545 E Canfield</td>\n",
       "      <td>Detroit</td>\n",
       "      <td>MI</td>\n",
       "      <td>48202</td>\n",
       "      <td>42.355274</td>\n",
       "      <td>-83.055588</td>\n",
       "      <td>0.474108</td>\n",
       "    </tr>\n",
       "  </tbody>\n",
       "</table>\n",
       "</div>"
      ],
      "text/plain": [
       "                                       Station Name  Street Address     City  \\\n",
       "8041  Wayne State University - Parking Structure #8     91 W Forest  Detroit   \n",
       "8036  Wayne State University - Parking Structure #3     45 E Warren  Detroit   \n",
       "8039  Wayne State University - Parking Structure #6       61 Putnam  Detroit   \n",
       "8040  Wayne State University - Parking Structure #7     3717 John R  Detroit   \n",
       "8043               Wayne State University - Lot #75  545 E Canfield  Detroit   \n",
       "\n",
       "     State    ZIP   Latitude  Longitude  Distance  \n",
       "8041    MI  48202  42.354263 -83.064166  0.100873  \n",
       "8036    MI  48202  42.357355 -83.063344  0.317758  \n",
       "8039    MI  48202  42.357432 -83.066046  0.332549  \n",
       "8040    MI  48202  42.349218 -83.056574  0.463792  \n",
       "8043    MI  48202  42.355274 -83.055588  0.474108  "
      ]
     },
     "execution_count": 186,
     "metadata": {},
     "output_type": "execute_result"
    }
   ],
   "source": [
    "# Assuming 'Groups With Access Code' might contain connector type information\n",
    "# For the purpose of this example, let's filter stations that are accessible to the public, as a placeholder\n",
    "# for actual connector type matching (which would require the appropriate column)\n",
    "\n",
    "s_lat = 42.3528049\n",
    "s_lng = -83.0642518\n",
    "\n",
    "\n",
    "# Filter for public stations as a placeholder for connector type filtering\n",
    "public_stations = df[df['Groups With Access Code'].str.contains('Public', na=False)]\n",
    "\n",
    "# Example user input for their current location (s_lat, s_lng)\n",
    "user_location = (s_lat, s_lng)  # Example: Downtown Los Angeles, CA\n",
    "\n",
    "# Function to calculate distance between two points\n",
    "def calculate_distance(user_loc, station_loc):\n",
    "    return haversine(user_loc, station_loc, unit=Unit.MILES)\n",
    "\n",
    "# Add a new column 'Distance' to the dataframe by applying the calculate_distance function\n",
    "public_stations['Distance'] = public_stations.apply(\n",
    "    lambda row: calculate_distance(user_location, (row['Latitude'], row['Longitude'])), axis=1\n",
    ")\n",
    "\n",
    "# Sort the dataframe by the new 'Distance' column to find the nearest station\n",
    "nearest_stations = public_stations.sort_values(by='Distance')\n",
    "\n",
    "# Display the top 5 nearest stations\n",
    "nearest_stations[['Station Name', 'Street Address', 'City', 'State', 'ZIP', 'Latitude','Longitude','Distance']].head(5)"
   ]
  },
  {
   "cell_type": "code",
   "execution_count": 187,
   "metadata": {},
   "outputs": [],
   "source": [
    "res = nearest_stations[['Station Name', 'Street Address', 'City', 'State', 'ZIP', 'Latitude','Longitude']].head(5)\n",
    "res['Address'] = nearest_stations.apply(lambda row: f\"{row['Street Address']}, {row['City']}, {row['State']} {row['ZIP']}\", axis=1)\n",
    "res = res.drop(columns=['Street Address', 'City', 'State', 'ZIP'])\n",
    "res = res.reset_index(drop=True)"
   ]
  },
  {
   "cell_type": "code",
   "execution_count": 188,
   "metadata": {},
   "outputs": [
    {
     "data": {
      "text/html": [
       "<div>\n",
       "<style scoped>\n",
       "    .dataframe tbody tr th:only-of-type {\n",
       "        vertical-align: middle;\n",
       "    }\n",
       "\n",
       "    .dataframe tbody tr th {\n",
       "        vertical-align: top;\n",
       "    }\n",
       "\n",
       "    .dataframe thead th {\n",
       "        text-align: right;\n",
       "    }\n",
       "</style>\n",
       "<table border=\"1\" class=\"dataframe\">\n",
       "  <thead>\n",
       "    <tr style=\"text-align: right;\">\n",
       "      <th></th>\n",
       "      <th>Station Name</th>\n",
       "      <th>Latitude</th>\n",
       "      <th>Longitude</th>\n",
       "      <th>Address</th>\n",
       "    </tr>\n",
       "  </thead>\n",
       "  <tbody>\n",
       "    <tr>\n",
       "      <th>0</th>\n",
       "      <td>Wayne State University - Parking Structure #8</td>\n",
       "      <td>42.354263</td>\n",
       "      <td>-83.064166</td>\n",
       "      <td>91 W Forest, Detroit, MI 48202</td>\n",
       "    </tr>\n",
       "    <tr>\n",
       "      <th>1</th>\n",
       "      <td>Wayne State University - Parking Structure #3</td>\n",
       "      <td>42.357355</td>\n",
       "      <td>-83.063344</td>\n",
       "      <td>45 E Warren, Detroit, MI 48202</td>\n",
       "    </tr>\n",
       "    <tr>\n",
       "      <th>2</th>\n",
       "      <td>Wayne State University - Parking Structure #6</td>\n",
       "      <td>42.357432</td>\n",
       "      <td>-83.066046</td>\n",
       "      <td>61 Putnam, Detroit, MI 48202</td>\n",
       "    </tr>\n",
       "    <tr>\n",
       "      <th>3</th>\n",
       "      <td>Wayne State University - Parking Structure #7</td>\n",
       "      <td>42.349218</td>\n",
       "      <td>-83.056574</td>\n",
       "      <td>3717 John R, Detroit, MI 48202</td>\n",
       "    </tr>\n",
       "    <tr>\n",
       "      <th>4</th>\n",
       "      <td>Wayne State University - Lot #75</td>\n",
       "      <td>42.355274</td>\n",
       "      <td>-83.055588</td>\n",
       "      <td>545 E Canfield, Detroit, MI 48202</td>\n",
       "    </tr>\n",
       "  </tbody>\n",
       "</table>\n",
       "</div>"
      ],
      "text/plain": [
       "                                    Station Name   Latitude  Longitude  \\\n",
       "0  Wayne State University - Parking Structure #8  42.354263 -83.064166   \n",
       "1  Wayne State University - Parking Structure #3  42.357355 -83.063344   \n",
       "2  Wayne State University - Parking Structure #6  42.357432 -83.066046   \n",
       "3  Wayne State University - Parking Structure #7  42.349218 -83.056574   \n",
       "4               Wayne State University - Lot #75  42.355274 -83.055588   \n",
       "\n",
       "                             Address  \n",
       "0     91 W Forest, Detroit, MI 48202  \n",
       "1     45 E Warren, Detroit, MI 48202  \n",
       "2       61 Putnam, Detroit, MI 48202  \n",
       "3     3717 John R, Detroit, MI 48202  \n",
       "4  545 E Canfield, Detroit, MI 48202  "
      ]
     },
     "execution_count": 188,
     "metadata": {},
     "output_type": "execute_result"
    }
   ],
   "source": [
    "res"
   ]
  },
  {
   "cell_type": "markdown",
   "metadata": {
    "id": "3PrYVCcntttW"
   },
   "source": [
    "## OSRM API Testing"
   ]
  },
  {
   "cell_type": "code",
   "execution_count": 189,
   "metadata": {},
   "outputs": [],
   "source": [
    "lat_lng_list = res[['Latitude', 'Longitude']].itertuples(index=False, name=None)\n",
    "\n",
    "q_string = ';'.join([f\"{lng},{lat}\" for lat, lng in lat_lng_list])\n",
    "url = f\"http://router.project-osrm.org/table/v1/driving/{float(s_lng)},{float(s_lat)};{q_string}?sources=0&annotations=duration,distance\""
   ]
  },
  {
   "cell_type": "code",
   "execution_count": 190,
   "metadata": {
    "id": "dk7_wKbdU3-9"
   },
   "outputs": [
    {
     "data": {
      "text/plain": [
       "'http://router.project-osrm.org/table/v1/driving/-83.0642518,42.3528049;-83.0641661133649,42.3542634789208;-83.0633437167853,42.3573546377245;-83.0660457070917,42.3574317712337;-83.0565744079649,42.349218009098;-83.0555882770568,42.355273766443?sources=0&annotations=duration,distance'"
      ]
     },
     "execution_count": 190,
     "metadata": {},
     "output_type": "execute_result"
    }
   ],
   "source": [
    "url"
   ]
  },
  {
   "cell_type": "code",
   "execution_count": 191,
   "metadata": {
    "id": "YIqkiYkgcB2s"
   },
   "outputs": [],
   "source": [
    "r = requests.get(url)\n",
    "response = r.json()\n",
    "res['Duration'] = response['durations'][0][1:]\n",
    "res['Distance'] = response['distances'][0][1:]"
   ]
  },
  {
   "cell_type": "code",
   "execution_count": 192,
   "metadata": {},
   "outputs": [
    {
     "data": {
      "text/html": [
       "<div>\n",
       "<style scoped>\n",
       "    .dataframe tbody tr th:only-of-type {\n",
       "        vertical-align: middle;\n",
       "    }\n",
       "\n",
       "    .dataframe tbody tr th {\n",
       "        vertical-align: top;\n",
       "    }\n",
       "\n",
       "    .dataframe thead th {\n",
       "        text-align: right;\n",
       "    }\n",
       "</style>\n",
       "<table border=\"1\" class=\"dataframe\">\n",
       "  <thead>\n",
       "    <tr style=\"text-align: right;\">\n",
       "      <th></th>\n",
       "      <th>Station Name</th>\n",
       "      <th>Latitude</th>\n",
       "      <th>Longitude</th>\n",
       "      <th>Address</th>\n",
       "      <th>Duration</th>\n",
       "      <th>Distance</th>\n",
       "    </tr>\n",
       "  </thead>\n",
       "  <tbody>\n",
       "    <tr>\n",
       "      <th>0</th>\n",
       "      <td>Wayne State University - Parking Structure #8</td>\n",
       "      <td>42.354263</td>\n",
       "      <td>-83.064166</td>\n",
       "      <td>91 W Forest, Detroit, MI 48202</td>\n",
       "      <td>50.9</td>\n",
       "      <td>272.6</td>\n",
       "    </tr>\n",
       "    <tr>\n",
       "      <th>1</th>\n",
       "      <td>Wayne State University - Parking Structure #3</td>\n",
       "      <td>42.357355</td>\n",
       "      <td>-83.063344</td>\n",
       "      <td>45 E Warren, Detroit, MI 48202</td>\n",
       "      <td>125.9</td>\n",
       "      <td>927.3</td>\n",
       "    </tr>\n",
       "    <tr>\n",
       "      <th>2</th>\n",
       "      <td>Wayne State University - Parking Structure #6</td>\n",
       "      <td>42.357432</td>\n",
       "      <td>-83.066046</td>\n",
       "      <td>61 Putnam, Detroit, MI 48202</td>\n",
       "      <td>101.8</td>\n",
       "      <td>656.1</td>\n",
       "    </tr>\n",
       "    <tr>\n",
       "      <th>3</th>\n",
       "      <td>Wayne State University - Parking Structure #7</td>\n",
       "      <td>42.349218</td>\n",
       "      <td>-83.056574</td>\n",
       "      <td>3717 John R, Detroit, MI 48202</td>\n",
       "      <td>154.7</td>\n",
       "      <td>1153.3</td>\n",
       "    </tr>\n",
       "    <tr>\n",
       "      <th>4</th>\n",
       "      <td>Wayne State University - Lot #75</td>\n",
       "      <td>42.355274</td>\n",
       "      <td>-83.055588</td>\n",
       "      <td>545 E Canfield, Detroit, MI 48202</td>\n",
       "      <td>151.4</td>\n",
       "      <td>982.8</td>\n",
       "    </tr>\n",
       "  </tbody>\n",
       "</table>\n",
       "</div>"
      ],
      "text/plain": [
       "                                    Station Name   Latitude  Longitude  \\\n",
       "0  Wayne State University - Parking Structure #8  42.354263 -83.064166   \n",
       "1  Wayne State University - Parking Structure #3  42.357355 -83.063344   \n",
       "2  Wayne State University - Parking Structure #6  42.357432 -83.066046   \n",
       "3  Wayne State University - Parking Structure #7  42.349218 -83.056574   \n",
       "4               Wayne State University - Lot #75  42.355274 -83.055588   \n",
       "\n",
       "                             Address  Duration  Distance  \n",
       "0     91 W Forest, Detroit, MI 48202      50.9     272.6  \n",
       "1     45 E Warren, Detroit, MI 48202     125.9     927.3  \n",
       "2       61 Putnam, Detroit, MI 48202     101.8     656.1  \n",
       "3     3717 John R, Detroit, MI 48202     154.7    1153.3  \n",
       "4  545 E Canfield, Detroit, MI 48202     151.4     982.8  "
      ]
     },
     "execution_count": 192,
     "metadata": {},
     "output_type": "execute_result"
    }
   ],
   "source": [
    "res"
   ]
  },
  {
   "cell_type": "code",
   "execution_count": 193,
   "metadata": {},
   "outputs": [],
   "source": [
    "res = res.sort_values(by=\"Duration\").reset_index(drop=True)"
   ]
  },
  {
   "cell_type": "code",
   "execution_count": 194,
   "metadata": {},
   "outputs": [
    {
     "name": "stdout",
     "output_type": "stream",
     "text": [
      "3 hr 25 min\n"
     ]
    }
   ],
   "source": [
    "def convert_seconds_to_hms(seconds):\n",
    "  hours = seconds // 3600\n",
    "  seconds %= 3600\n",
    "  minutes = seconds // 60\n",
    "  seconds %= 60\n",
    "\n",
    "  if hours > 0:\n",
    "    return f\"{hours:.0f} hr {minutes:.0f} min\"\n",
    "  elif minutes > 0:\n",
    "    return f\"{minutes:.0f} min\"\n",
    "  else:\n",
    "    return f\"1 min\"\n",
    "\n",
    "# Example usage\n",
    "duration_in_seconds = 12345\n",
    "duration_string = convert_seconds_to_hms(duration_in_seconds)\n",
    "print(f\"{duration_string}\")"
   ]
  },
  {
   "cell_type": "code",
   "execution_count": 195,
   "metadata": {
    "scrolled": true
   },
   "outputs": [],
   "source": [
    "res[\"Duration\"] = res[\"Duration\"].apply(lambda dur:convert_seconds_to_hms(dur))"
   ]
  },
  {
   "cell_type": "code",
   "execution_count": 196,
   "metadata": {},
   "outputs": [
    {
     "name": "stdout",
     "output_type": "stream",
     "text": [
      "1000 meters is equal to 0.62 miles.\n"
     ]
    }
   ],
   "source": [
    "def meters_to_miles(meters):\n",
    "  miles = meters / 1609.34\n",
    "  return miles\n",
    "\n",
    "# Example usage\n",
    "distance_in_meters = 1000\n",
    "distance_in_miles = meters_to_miles(distance_in_meters)\n",
    "print(f\"{distance_in_meters} meters is equal to {distance_in_miles:.2f} miles.\")"
   ]
  },
  {
   "cell_type": "code",
   "execution_count": 197,
   "metadata": {},
   "outputs": [],
   "source": [
    "res[\"Distance\"] = res[\"Distance\"].apply(lambda dis:f\"{round(meters_to_miles(dis),2)} miles\")"
   ]
  },
  {
   "cell_type": "code",
   "execution_count": 198,
   "metadata": {},
   "outputs": [
    {
     "data": {
      "text/html": [
       "<div>\n",
       "<style scoped>\n",
       "    .dataframe tbody tr th:only-of-type {\n",
       "        vertical-align: middle;\n",
       "    }\n",
       "\n",
       "    .dataframe tbody tr th {\n",
       "        vertical-align: top;\n",
       "    }\n",
       "\n",
       "    .dataframe thead th {\n",
       "        text-align: right;\n",
       "    }\n",
       "</style>\n",
       "<table border=\"1\" class=\"dataframe\">\n",
       "  <thead>\n",
       "    <tr style=\"text-align: right;\">\n",
       "      <th></th>\n",
       "      <th>Station Name</th>\n",
       "      <th>Latitude</th>\n",
       "      <th>Longitude</th>\n",
       "      <th>Address</th>\n",
       "      <th>Duration</th>\n",
       "      <th>Distance</th>\n",
       "    </tr>\n",
       "  </thead>\n",
       "  <tbody>\n",
       "    <tr>\n",
       "      <th>0</th>\n",
       "      <td>Wayne State University - Parking Structure #8</td>\n",
       "      <td>42.354263</td>\n",
       "      <td>-83.064166</td>\n",
       "      <td>91 W Forest, Detroit, MI 48202</td>\n",
       "      <td>1 min</td>\n",
       "      <td>0.17 miles</td>\n",
       "    </tr>\n",
       "    <tr>\n",
       "      <th>1</th>\n",
       "      <td>Wayne State University - Parking Structure #6</td>\n",
       "      <td>42.357432</td>\n",
       "      <td>-83.066046</td>\n",
       "      <td>61 Putnam, Detroit, MI 48202</td>\n",
       "      <td>1 min</td>\n",
       "      <td>0.41 miles</td>\n",
       "    </tr>\n",
       "    <tr>\n",
       "      <th>2</th>\n",
       "      <td>Wayne State University - Parking Structure #3</td>\n",
       "      <td>42.357355</td>\n",
       "      <td>-83.063344</td>\n",
       "      <td>45 E Warren, Detroit, MI 48202</td>\n",
       "      <td>2 min</td>\n",
       "      <td>0.58 miles</td>\n",
       "    </tr>\n",
       "    <tr>\n",
       "      <th>3</th>\n",
       "      <td>Wayne State University - Lot #75</td>\n",
       "      <td>42.355274</td>\n",
       "      <td>-83.055588</td>\n",
       "      <td>545 E Canfield, Detroit, MI 48202</td>\n",
       "      <td>2 min</td>\n",
       "      <td>0.61 miles</td>\n",
       "    </tr>\n",
       "    <tr>\n",
       "      <th>4</th>\n",
       "      <td>Wayne State University - Parking Structure #7</td>\n",
       "      <td>42.349218</td>\n",
       "      <td>-83.056574</td>\n",
       "      <td>3717 John R, Detroit, MI 48202</td>\n",
       "      <td>2 min</td>\n",
       "      <td>0.72 miles</td>\n",
       "    </tr>\n",
       "  </tbody>\n",
       "</table>\n",
       "</div>"
      ],
      "text/plain": [
       "                                    Station Name   Latitude  Longitude  \\\n",
       "0  Wayne State University - Parking Structure #8  42.354263 -83.064166   \n",
       "1  Wayne State University - Parking Structure #6  42.357432 -83.066046   \n",
       "2  Wayne State University - Parking Structure #3  42.357355 -83.063344   \n",
       "3               Wayne State University - Lot #75  42.355274 -83.055588   \n",
       "4  Wayne State University - Parking Structure #7  42.349218 -83.056574   \n",
       "\n",
       "                             Address Duration    Distance  \n",
       "0     91 W Forest, Detroit, MI 48202    1 min  0.17 miles  \n",
       "1       61 Putnam, Detroit, MI 48202    1 min  0.41 miles  \n",
       "2     45 E Warren, Detroit, MI 48202    2 min  0.58 miles  \n",
       "3  545 E Canfield, Detroit, MI 48202    2 min  0.61 miles  \n",
       "4     3717 John R, Detroit, MI 48202    2 min  0.72 miles  "
      ]
     },
     "execution_count": 198,
     "metadata": {},
     "output_type": "execute_result"
    }
   ],
   "source": [
    "res"
   ]
  },
  {
   "cell_type": "code",
   "execution_count": 199,
   "metadata": {},
   "outputs": [],
   "source": [
    "res[\"URL\"] = res.apply(lambda row: f\"https://www.google.com/maps/dir/?api=1&origin={float(s_lat)},{float(s_lng)}&destination={row[\"Latitude\"]},{row[\"Longitude\"]}&travelmode=driving&dir_action=navigate\",axis=1)"
   ]
  },
  {
   "cell_type": "code",
   "execution_count": 200,
   "metadata": {},
   "outputs": [],
   "source": [
    "res = res.drop(columns=['Latitude', 'Longitude'])"
   ]
  },
  {
   "cell_type": "code",
   "execution_count": 201,
   "metadata": {},
   "outputs": [
    {
     "data": {
      "text/html": [
       "<div>\n",
       "<style scoped>\n",
       "    .dataframe tbody tr th:only-of-type {\n",
       "        vertical-align: middle;\n",
       "    }\n",
       "\n",
       "    .dataframe tbody tr th {\n",
       "        vertical-align: top;\n",
       "    }\n",
       "\n",
       "    .dataframe thead th {\n",
       "        text-align: right;\n",
       "    }\n",
       "</style>\n",
       "<table border=\"1\" class=\"dataframe\">\n",
       "  <thead>\n",
       "    <tr style=\"text-align: right;\">\n",
       "      <th></th>\n",
       "      <th>Station Name</th>\n",
       "      <th>Address</th>\n",
       "      <th>Duration</th>\n",
       "      <th>Distance</th>\n",
       "      <th>URL</th>\n",
       "    </tr>\n",
       "  </thead>\n",
       "  <tbody>\n",
       "    <tr>\n",
       "      <th>0</th>\n",
       "      <td>Wayne State University - Parking Structure #8</td>\n",
       "      <td>91 W Forest, Detroit, MI 48202</td>\n",
       "      <td>1 min</td>\n",
       "      <td>0.17 miles</td>\n",
       "      <td>https://www.google.com/maps/dir/?api=1&amp;origin=...</td>\n",
       "    </tr>\n",
       "    <tr>\n",
       "      <th>1</th>\n",
       "      <td>Wayne State University - Parking Structure #6</td>\n",
       "      <td>61 Putnam, Detroit, MI 48202</td>\n",
       "      <td>1 min</td>\n",
       "      <td>0.41 miles</td>\n",
       "      <td>https://www.google.com/maps/dir/?api=1&amp;origin=...</td>\n",
       "    </tr>\n",
       "    <tr>\n",
       "      <th>2</th>\n",
       "      <td>Wayne State University - Parking Structure #3</td>\n",
       "      <td>45 E Warren, Detroit, MI 48202</td>\n",
       "      <td>2 min</td>\n",
       "      <td>0.58 miles</td>\n",
       "      <td>https://www.google.com/maps/dir/?api=1&amp;origin=...</td>\n",
       "    </tr>\n",
       "    <tr>\n",
       "      <th>3</th>\n",
       "      <td>Wayne State University - Lot #75</td>\n",
       "      <td>545 E Canfield, Detroit, MI 48202</td>\n",
       "      <td>2 min</td>\n",
       "      <td>0.61 miles</td>\n",
       "      <td>https://www.google.com/maps/dir/?api=1&amp;origin=...</td>\n",
       "    </tr>\n",
       "    <tr>\n",
       "      <th>4</th>\n",
       "      <td>Wayne State University - Parking Structure #7</td>\n",
       "      <td>3717 John R, Detroit, MI 48202</td>\n",
       "      <td>2 min</td>\n",
       "      <td>0.72 miles</td>\n",
       "      <td>https://www.google.com/maps/dir/?api=1&amp;origin=...</td>\n",
       "    </tr>\n",
       "  </tbody>\n",
       "</table>\n",
       "</div>"
      ],
      "text/plain": [
       "                                    Station Name  \\\n",
       "0  Wayne State University - Parking Structure #8   \n",
       "1  Wayne State University - Parking Structure #6   \n",
       "2  Wayne State University - Parking Structure #3   \n",
       "3               Wayne State University - Lot #75   \n",
       "4  Wayne State University - Parking Structure #7   \n",
       "\n",
       "                             Address Duration    Distance  \\\n",
       "0     91 W Forest, Detroit, MI 48202    1 min  0.17 miles   \n",
       "1       61 Putnam, Detroit, MI 48202    1 min  0.41 miles   \n",
       "2     45 E Warren, Detroit, MI 48202    2 min  0.58 miles   \n",
       "3  545 E Canfield, Detroit, MI 48202    2 min  0.61 miles   \n",
       "4     3717 John R, Detroit, MI 48202    2 min  0.72 miles   \n",
       "\n",
       "                                                 URL  \n",
       "0  https://www.google.com/maps/dir/?api=1&origin=...  \n",
       "1  https://www.google.com/maps/dir/?api=1&origin=...  \n",
       "2  https://www.google.com/maps/dir/?api=1&origin=...  \n",
       "3  https://www.google.com/maps/dir/?api=1&origin=...  \n",
       "4  https://www.google.com/maps/dir/?api=1&origin=...  "
      ]
     },
     "execution_count": 201,
     "metadata": {},
     "output_type": "execute_result"
    }
   ],
   "source": [
    "res"
   ]
  },
  {
   "cell_type": "code",
   "execution_count": 202,
   "metadata": {},
   "outputs": [],
   "source": [
    "stations = res.to_dict(orient='records')"
   ]
  },
  {
   "cell_type": "code",
   "execution_count": 203,
   "metadata": {},
   "outputs": [
    {
     "data": {
      "text/plain": [
       "[{'Station Name': 'Wayne State University - Parking Structure #8',\n",
       "  'Address': '91 W Forest, Detroit, MI 48202',\n",
       "  'Duration': '1 min',\n",
       "  'Distance': '0.17 miles',\n",
       "  'URL': 'https://www.google.com/maps/dir/?api=1&origin=42.3528049,-83.0642518&destination=42.3542634789208,-83.0641661133649&travelmode=driving&dir_action=navigate'},\n",
       " {'Station Name': 'Wayne State University - Parking Structure #6',\n",
       "  'Address': '61 Putnam, Detroit, MI 48202',\n",
       "  'Duration': '1 min',\n",
       "  'Distance': '0.41 miles',\n",
       "  'URL': 'https://www.google.com/maps/dir/?api=1&origin=42.3528049,-83.0642518&destination=42.3574317712337,-83.0660457070917&travelmode=driving&dir_action=navigate'},\n",
       " {'Station Name': 'Wayne State University - Parking Structure #3',\n",
       "  'Address': '45 E Warren, Detroit, MI 48202',\n",
       "  'Duration': '2 min',\n",
       "  'Distance': '0.58 miles',\n",
       "  'URL': 'https://www.google.com/maps/dir/?api=1&origin=42.3528049,-83.0642518&destination=42.3573546377245,-83.0633437167853&travelmode=driving&dir_action=navigate'},\n",
       " {'Station Name': 'Wayne State University - Lot #75',\n",
       "  'Address': '545 E Canfield, Detroit, MI 48202',\n",
       "  'Duration': '2 min',\n",
       "  'Distance': '0.61 miles',\n",
       "  'URL': 'https://www.google.com/maps/dir/?api=1&origin=42.3528049,-83.0642518&destination=42.355273766443,-83.0555882770568&travelmode=driving&dir_action=navigate'},\n",
       " {'Station Name': 'Wayne State University - Parking Structure #7',\n",
       "  'Address': '3717 John R, Detroit, MI 48202',\n",
       "  'Duration': '2 min',\n",
       "  'Distance': '0.72 miles',\n",
       "  'URL': 'https://www.google.com/maps/dir/?api=1&origin=42.3528049,-83.0642518&destination=42.349218009098,-83.0565744079649&travelmode=driving&dir_action=navigate'}]"
      ]
     },
     "execution_count": 203,
     "metadata": {},
     "output_type": "execute_result"
    }
   ],
   "source": [
    "stations"
   ]
  }
 ],
 "metadata": {
  "colab": {
   "collapsed_sections": [
    "X3tCGO08R2W2",
    "6d8pbE12RurY",
    "dQLSsLewSHkl"
   ],
   "provenance": []
  },
  "kernelspec": {
   "display_name": "Python 3 (ipykernel)",
   "language": "python",
   "name": "python3"
  },
  "language_info": {
   "codemirror_mode": {
    "name": "ipython",
    "version": 3
   },
   "file_extension": ".py",
   "mimetype": "text/x-python",
   "name": "python",
   "nbconvert_exporter": "python",
   "pygments_lexer": "ipython3",
   "version": "3.12.0"
  }
 },
 "nbformat": 4,
 "nbformat_minor": 4
}
