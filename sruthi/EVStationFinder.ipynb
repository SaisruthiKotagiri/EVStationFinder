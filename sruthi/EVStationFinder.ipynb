{
  "nbformat": 4,
  "nbformat_minor": 0,
  "metadata": {
    "colab": {
      "provenance": [],
      "collapsed_sections": [
        "X3tCGO08R2W2",
        "6d8pbE12RurY",
        "dQLSsLewSHkl"
      ]
    },
    "kernelspec": {
      "name": "python3",
      "display_name": "Python 3"
    },
    "language_info": {
      "name": "python"
    }
  },
  "cells": [
    {
      "cell_type": "markdown",
      "source": [
        "# EV Charger Finder\n"
      ],
      "metadata": {
        "id": "7K84b_WrR7X1"
      }
    },
    {
      "cell_type": "markdown",
      "source": [
        "## Installs"
      ],
      "metadata": {
        "id": "X3tCGO08R2W2"
      }
    },
    {
      "cell_type": "code",
      "source": [
        "!pip install haversine"
      ],
      "metadata": {
        "id": "49Igz7j1tNa3"
      },
      "execution_count": null,
      "outputs": []
    },
    {
      "cell_type": "code",
      "source": [
        "!pip install googlemaps"
      ],
      "metadata": {
        "id": "H88gkBQ3UoPM"
      },
      "execution_count": null,
      "outputs": []
    },
    {
      "cell_type": "markdown",
      "source": [
        "## Imports"
      ],
      "metadata": {
        "id": "6d8pbE12RurY"
      }
    },
    {
      "cell_type": "code",
      "source": [
        "import pandas as pd\n",
        "from haversine import haversine, Unit"
      ],
      "metadata": {
        "id": "_t-DdKCURiCM"
      },
      "execution_count": null,
      "outputs": []
    },
    {
      "cell_type": "markdown",
      "source": [
        "## Data Set"
      ],
      "metadata": {
        "id": "dQLSsLewSHkl"
      }
    },
    {
      "cell_type": "code",
      "execution_count": null,
      "metadata": {
        "id": "L2q3gD34mxWd"
      },
      "outputs": [],
      "source": [
        "file_path = ''\n",
        "df = pd.read_csv(file_path)"
      ]
    },
    {
      "cell_type": "code",
      "source": [
        "# Let's get all the column names to identify the ones for latitude, longitude, and EV connector types\n",
        "column_names = df.columns.tolist()\n",
        "column_names"
      ],
      "metadata": {
        "id": "rpoNAdwosHH6"
      },
      "execution_count": null,
      "outputs": []
    },
    {
      "cell_type": "markdown",
      "source": [
        "## Haversine Distance Calculation"
      ],
      "metadata": {
        "id": "YiaO-fhJSR2b"
      }
    },
    {
      "cell_type": "code",
      "source": [
        "# Assuming 'Groups With Access Code' might contain connector type information\n",
        "# For the purpose of this example, let's filter stations that are accessible to the public, as a placeholder\n",
        "# for actual connector type matching (which would require the appropriate column)\n",
        "\n",
        "# Filter for public stations as a placeholder for connector type filtering\n",
        "public_stations = df[df['Groups With Access Code'].str.contains('Public', na=False)]\n",
        "\n",
        "# Example user input for their current location (latitude, longitude)\n",
        "user_location = (34.052235, -118.243683)  # Example: Downtown Los Angeles, CA\n",
        "\n",
        "# Function to calculate distance between two points\n",
        "def calculate_distance(user_loc, station_loc):\n",
        "    return haversine(user_loc, station_loc, unit=Unit.MILES)\n",
        "\n",
        "# Add a new column 'Distance' to the dataframe by applying the calculate_distance function\n",
        "public_stations['Distance'] = public_stations.apply(\n",
        "    lambda row: calculate_distance(user_location, (row['Latitude'], row['Longitude'])), axis=1\n",
        ")\n",
        "\n",
        "# Sort the dataframe by the new 'Distance' column to find the nearest station\n",
        "nearest_stations = public_stations.sort_values(by='Distance')\n",
        "\n",
        "# Display the top 5 nearest stations\n",
        "nearest_stations[['Station Name', 'Street Address', 'City', 'State', 'ZIP', 'Latitude','Longitude','Distance']].head(7)"
      ],
      "metadata": {
        "id": "UsSiH7fgs2xG"
      },
      "execution_count": null,
      "outputs": []
    },
    {
      "cell_type": "markdown",
      "source": [
        "## OSRM API Testing"
      ],
      "metadata": {
        "id": "3PrYVCcntttW"
      }
    },
    {
      "cell_type": "code",
      "source": [
        "import requests"
      ],
      "metadata": {
        "id": "v9pgTQ0KUmTx"
      },
      "execution_count": null,
      "outputs": []
    },
    {
      "cell_type": "code",
      "source": [
        "url = \"http://router.project-osrm.org/table/v1/driving/-118.243683,34.052235;-121.461813,45.714228;-121.469670,45.716090?sources=0&annotations=duration,distance\""
      ],
      "metadata": {
        "id": "dk7_wKbdU3-9"
      },
      "execution_count": null,
      "outputs": []
    },
    {
      "cell_type": "code",
      "source": [
        "r = requests.get(url)"
      ],
      "metadata": {
        "id": "at7TyUhyVBU3"
      },
      "execution_count": null,
      "outputs": []
    },
    {
      "cell_type": "code",
      "source": [
        "response = r.json()"
      ],
      "metadata": {
        "id": "lrhN43YjXErf"
      },
      "execution_count": null,
      "outputs": []
    },
    {
      "cell_type": "code",
      "source": [
        "response.keys()"
      ],
      "metadata": {
        "id": "9qmO5fFMXGFM"
      },
      "execution_count": null,
      "outputs": []
    },
    {
      "cell_type": "code",
      "source": [
        "response['durations']"
      ],
      "metadata": {
        "id": "E_9ztUvyY0u2"
      },
      "execution_count": null,
      "outputs": []
    },
    {
      "cell_type": "code",
      "source": [
        "response['distances']"
      ],
      "metadata": {
        "id": "YIqkiYkgcB2s"
      },
      "execution_count": null,
      "outputs": []
    },
    {
      "cell_type": "code",
      "source": [
        "response[\"destinations\"]"
      ],
      "metadata": {
        "id": "B_bF3TffZvVE"
      },
      "execution_count": null,
      "outputs": []
    }
  ]
}